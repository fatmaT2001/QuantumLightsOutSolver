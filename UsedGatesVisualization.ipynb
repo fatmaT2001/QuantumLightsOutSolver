{
  "cells": [
    {
      "cell_type": "markdown",
      "metadata": {
        "id": "view-in-github",
        "colab_type": "text"
      },
      "source": [
        "<a href=\"https://colab.research.google.com/github/fatmaT2001/QuantumLightsOutSolver/blob/main/UsedGatesVisualization.ipynb\" target=\"_parent\"><img src=\"https://colab.research.google.com/assets/colab-badge.svg\" alt=\"Open In Colab\"/></a>"
      ]
    },
    {
      "cell_type": "markdown",
      "metadata": {
        "id": "nErS8J51whaB"
      },
      "source": [
        "<h1><center>Solving the Lights Out Puzzle Using Grover's Algorithm</center></h1>\n",
        "<h2><center>Course Project</center></h2>\n",
        "<h3><center>CIE470</center></h3>\n",
        "<h3><center>Introduction to Quantum Information and Computation</center></h3>"
      ]
    },
    {
      "cell_type": "code",
      "source": [
        "!pip install qiskit\n",
        "!pip install qiskit-aer"
      ],
      "metadata": {
        "colab": {
          "base_uri": "https://localhost:8080/"
        },
        "id": "GGV5vIkFOL18",
        "outputId": "32325459-2348-47a7-9d50-096cc95132e9"
      },
      "execution_count": null,
      "outputs": [
        {
          "output_type": "stream",
          "name": "stdout",
          "text": [
            "Collecting qiskit\n",
            "  Downloading qiskit-0.45.2-py3-none-any.whl (9.6 kB)\n",
            "Collecting qiskit-terra==0.45.2 (from qiskit)\n",
            "  Downloading qiskit_terra-0.45.2-cp38-abi3-manylinux_2_17_x86_64.manylinux2014_x86_64.whl (6.3 MB)\n",
            "\u001b[2K     \u001b[90m━━━━━━━━━━━━━━━━━━━━━━━━━━━━━━━━━━━━━━━━\u001b[0m \u001b[32m6.3/6.3 MB\u001b[0m \u001b[31m12.5 MB/s\u001b[0m eta \u001b[36m0:00:00\u001b[0m\n",
            "\u001b[?25hCollecting rustworkx>=0.13.0 (from qiskit-terra==0.45.2->qiskit)\n",
            "  Downloading rustworkx-0.14.0-cp310-cp310-manylinux_2_17_x86_64.manylinux2014_x86_64.whl (2.2 MB)\n",
            "\u001b[2K     \u001b[90m━━━━━━━━━━━━━━━━━━━━━━━━━━━━━━━━━━━━━━━━\u001b[0m \u001b[32m2.2/2.2 MB\u001b[0m \u001b[31m25.7 MB/s\u001b[0m eta \u001b[36m0:00:00\u001b[0m\n",
            "\u001b[?25hRequirement already satisfied: numpy<2,>=1.17 in /usr/local/lib/python3.10/dist-packages (from qiskit-terra==0.45.2->qiskit) (1.23.5)\n",
            "Collecting ply>=3.10 (from qiskit-terra==0.45.2->qiskit)\n",
            "  Downloading ply-3.11-py2.py3-none-any.whl (49 kB)\n",
            "\u001b[2K     \u001b[90m━━━━━━━━━━━━━━━━━━━━━━━━━━━━━━━━━━━━━━━━\u001b[0m \u001b[32m49.6/49.6 kB\u001b[0m \u001b[31m5.0 MB/s\u001b[0m eta \u001b[36m0:00:00\u001b[0m\n",
            "\u001b[?25hRequirement already satisfied: psutil>=5 in /usr/local/lib/python3.10/dist-packages (from qiskit-terra==0.45.2->qiskit) (5.9.5)\n",
            "Requirement already satisfied: scipy>=1.5 in /usr/local/lib/python3.10/dist-packages (from qiskit-terra==0.45.2->qiskit) (1.11.4)\n",
            "Requirement already satisfied: sympy>=1.3 in /usr/local/lib/python3.10/dist-packages (from qiskit-terra==0.45.2->qiskit) (1.12)\n",
            "Collecting dill>=0.3 (from qiskit-terra==0.45.2->qiskit)\n",
            "  Downloading dill-0.3.7-py3-none-any.whl (115 kB)\n",
            "\u001b[2K     \u001b[90m━━━━━━━━━━━━━━━━━━━━━━━━━━━━━━━━━━━━━━━━\u001b[0m \u001b[32m115.3/115.3 kB\u001b[0m \u001b[31m12.0 MB/s\u001b[0m eta \u001b[36m0:00:00\u001b[0m\n",
            "\u001b[?25hRequirement already satisfied: python-dateutil>=2.8.0 in /usr/local/lib/python3.10/dist-packages (from qiskit-terra==0.45.2->qiskit) (2.8.2)\n",
            "Collecting stevedore>=3.0.0 (from qiskit-terra==0.45.2->qiskit)\n",
            "  Downloading stevedore-5.1.0-py3-none-any.whl (49 kB)\n",
            "\u001b[2K     \u001b[90m━━━━━━━━━━━━━━━━━━━━━━━━━━━━━━━━━━━━━━━━\u001b[0m \u001b[32m49.6/49.6 kB\u001b[0m \u001b[31m5.2 MB/s\u001b[0m eta \u001b[36m0:00:00\u001b[0m\n",
            "\u001b[?25hCollecting symengine!=0.10.0,>=0.9 (from qiskit-terra==0.45.2->qiskit)\n",
            "  Downloading symengine-0.11.0-cp310-cp310-manylinux_2_12_x86_64.manylinux2010_x86_64.whl (39.4 MB)\n",
            "\u001b[2K     \u001b[90m━━━━━━━━━━━━━━━━━━━━━━━━━━━━━━━━━━━━━━━━\u001b[0m \u001b[32m39.4/39.4 MB\u001b[0m \u001b[31m15.8 MB/s\u001b[0m eta \u001b[36m0:00:00\u001b[0m\n",
            "\u001b[?25hRequirement already satisfied: typing-extensions in /usr/local/lib/python3.10/dist-packages (from qiskit-terra==0.45.2->qiskit) (4.5.0)\n",
            "Requirement already satisfied: six>=1.5 in /usr/local/lib/python3.10/dist-packages (from python-dateutil>=2.8.0->qiskit-terra==0.45.2->qiskit) (1.16.0)\n",
            "Collecting pbr!=2.1.0,>=2.0.0 (from stevedore>=3.0.0->qiskit-terra==0.45.2->qiskit)\n",
            "  Downloading pbr-6.0.0-py2.py3-none-any.whl (107 kB)\n",
            "\u001b[2K     \u001b[90m━━━━━━━━━━━━━━━━━━━━━━━━━━━━━━━━━━━━━━━━\u001b[0m \u001b[32m107.5/107.5 kB\u001b[0m \u001b[31m5.2 MB/s\u001b[0m eta \u001b[36m0:00:00\u001b[0m\n",
            "\u001b[?25hRequirement already satisfied: mpmath>=0.19 in /usr/local/lib/python3.10/dist-packages (from sympy>=1.3->qiskit-terra==0.45.2->qiskit) (1.3.0)\n",
            "Installing collected packages: ply, symengine, rustworkx, pbr, dill, stevedore, qiskit-terra, qiskit\n",
            "Successfully installed dill-0.3.7 pbr-6.0.0 ply-3.11 qiskit-0.45.2 qiskit-terra-0.45.2 rustworkx-0.14.0 stevedore-5.1.0 symengine-0.11.0\n",
            "Collecting qiskit-aer\n",
            "  Downloading qiskit_aer-0.13.2-cp310-cp310-manylinux_2_17_x86_64.manylinux2014_x86_64.whl (12.3 MB)\n",
            "\u001b[2K     \u001b[90m━━━━━━━━━━━━━━━━━━━━━━━━━━━━━━━━━━━━━━━━\u001b[0m \u001b[32m12.3/12.3 MB\u001b[0m \u001b[31m9.8 MB/s\u001b[0m eta \u001b[36m0:00:00\u001b[0m\n",
            "\u001b[?25hRequirement already satisfied: qiskit>=0.45.0 in /usr/local/lib/python3.10/dist-packages (from qiskit-aer) (0.45.2)\n",
            "Requirement already satisfied: numpy>=1.16.3 in /usr/local/lib/python3.10/dist-packages (from qiskit-aer) (1.23.5)\n",
            "Requirement already satisfied: scipy>=1.0 in /usr/local/lib/python3.10/dist-packages (from qiskit-aer) (1.11.4)\n",
            "Requirement already satisfied: psutil>=5 in /usr/local/lib/python3.10/dist-packages (from qiskit-aer) (5.9.5)\n",
            "Requirement already satisfied: qiskit-terra==0.45.2 in /usr/local/lib/python3.10/dist-packages (from qiskit>=0.45.0->qiskit-aer) (0.45.2)\n",
            "Requirement already satisfied: rustworkx>=0.13.0 in /usr/local/lib/python3.10/dist-packages (from qiskit-terra==0.45.2->qiskit>=0.45.0->qiskit-aer) (0.14.0)\n",
            "Requirement already satisfied: ply>=3.10 in /usr/local/lib/python3.10/dist-packages (from qiskit-terra==0.45.2->qiskit>=0.45.0->qiskit-aer) (3.11)\n",
            "Requirement already satisfied: sympy>=1.3 in /usr/local/lib/python3.10/dist-packages (from qiskit-terra==0.45.2->qiskit>=0.45.0->qiskit-aer) (1.12)\n",
            "Requirement already satisfied: dill>=0.3 in /usr/local/lib/python3.10/dist-packages (from qiskit-terra==0.45.2->qiskit>=0.45.0->qiskit-aer) (0.3.7)\n",
            "Requirement already satisfied: python-dateutil>=2.8.0 in /usr/local/lib/python3.10/dist-packages (from qiskit-terra==0.45.2->qiskit>=0.45.0->qiskit-aer) (2.8.2)\n",
            "Requirement already satisfied: stevedore>=3.0.0 in /usr/local/lib/python3.10/dist-packages (from qiskit-terra==0.45.2->qiskit>=0.45.0->qiskit-aer) (5.1.0)\n",
            "Requirement already satisfied: symengine!=0.10.0,>=0.9 in /usr/local/lib/python3.10/dist-packages (from qiskit-terra==0.45.2->qiskit>=0.45.0->qiskit-aer) (0.11.0)\n",
            "Requirement already satisfied: typing-extensions in /usr/local/lib/python3.10/dist-packages (from qiskit-terra==0.45.2->qiskit>=0.45.0->qiskit-aer) (4.5.0)\n",
            "Requirement already satisfied: six>=1.5 in /usr/local/lib/python3.10/dist-packages (from python-dateutil>=2.8.0->qiskit-terra==0.45.2->qiskit>=0.45.0->qiskit-aer) (1.16.0)\n",
            "Requirement already satisfied: pbr!=2.1.0,>=2.0.0 in /usr/local/lib/python3.10/dist-packages (from stevedore>=3.0.0->qiskit-terra==0.45.2->qiskit>=0.45.0->qiskit-aer) (6.0.0)\n",
            "Requirement already satisfied: mpmath>=0.19 in /usr/local/lib/python3.10/dist-packages (from sympy>=1.3->qiskit-terra==0.45.2->qiskit>=0.45.0->qiskit-aer) (1.3.0)\n",
            "Installing collected packages: qiskit-aer\n",
            "Successfully installed qiskit-aer-0.13.2\n"
          ]
        }
      ]
    },
    {
      "cell_type": "code",
      "execution_count": null,
      "metadata": {
        "id": "FIHcajB1whaL"
      },
      "outputs": [],
      "source": [
        "lights = [0, 1, 1, 0, 0, 1, 1, 0, 0] ## this is our variable holding the initial bulb states\n",
        "\n",
        "switches_neighbors = [\n",
        "    [1, 3],\n",
        "    [0, 2, 4],\n",
        "    [1, 5],\n",
        "    [0, 4, 6],\n",
        "    [1, 3, 5, 7],\n",
        "    [2, 4, 8],\n",
        "    [3, 7],\n",
        "    [4, 6, 8],\n",
        "    [5, 7]\n",
        "]\n",
        "\n",
        "number_of_qubits=9"
      ]
    },
    {
      "cell_type": "code",
      "execution_count": null,
      "metadata": {
        "colab": {
          "base_uri": "https://localhost:8080/",
          "height": 648
        },
        "id": "waME2qPxwhaU",
        "outputId": "7a9acca6-961c-493b-849c-024356b59651"
      },
      "outputs": [
        {
          "output_type": "execute_result",
          "data": {
            "text/plain": [
              "             \n",
              "   switch_0: \n",
              "             \n",
              "   switch_1: \n",
              "             \n",
              "   switch_2: \n",
              "             \n",
              "   switch_3: \n",
              "             \n",
              "   switch_4: \n",
              "             \n",
              "   switch_5: \n",
              "             \n",
              "   switch_6: \n",
              "             \n",
              "   switch_7: \n",
              "             \n",
              "   switch_8: \n",
              "             \n",
              "     bulb_0: \n",
              "             \n",
              "     bulb_1: \n",
              "             \n",
              "     bulb_2: \n",
              "             \n",
              "     bulb_3: \n",
              "             \n",
              "     bulb_4: \n",
              "             \n",
              "     bulb_5: \n",
              "             \n",
              "     bulb_6: \n",
              "             \n",
              "     bulb_7: \n",
              "             \n",
              "     bulb_8: \n",
              "             \n",
              "     output: \n",
              "             \n",
              "classical: 9/\n",
              "             "
            ],
            "text/html": [
              "<pre style=\"word-wrap: normal;white-space: pre;background: #fff0;line-height: 1.1;font-family: &quot;Courier New&quot;,Courier,monospace\">             \n",
              "   switch_0: \n",
              "             \n",
              "   switch_1: \n",
              "             \n",
              "   switch_2: \n",
              "             \n",
              "   switch_3: \n",
              "             \n",
              "   switch_4: \n",
              "             \n",
              "   switch_5: \n",
              "             \n",
              "   switch_6: \n",
              "             \n",
              "   switch_7: \n",
              "             \n",
              "   switch_8: \n",
              "             \n",
              "     bulb_0: \n",
              "             \n",
              "     bulb_1: \n",
              "             \n",
              "     bulb_2: \n",
              "             \n",
              "     bulb_3: \n",
              "             \n",
              "     bulb_4: \n",
              "             \n",
              "     bulb_5: \n",
              "             \n",
              "     bulb_6: \n",
              "             \n",
              "     bulb_7: \n",
              "             \n",
              "     bulb_8: \n",
              "             \n",
              "     output: \n",
              "             \n",
              "classical: 9/\n",
              "             </pre>"
            ]
          },
          "metadata": {},
          "execution_count": 3
        }
      ],
      "source": [
        "from qiskit import *\n",
        "\n",
        "'''\n",
        "Q1: Register preparation :\n",
        " construct the circuit \"qc\" given below by combining 4 inputs consisting of:\n",
        "\n",
        " 3 quantum registers (switch, bulb, output) and a classical register (result) which returns an initial quantum circuit\n",
        "\n",
        "\n",
        "'''\n",
        "# Quantum registers\n",
        "switch = QuantumRegister(number_of_qubits, name=\"switch\")\n",
        "bulb = QuantumRegister(number_of_qubits, name=\"bulb\")\n",
        "output = QuantumRegister(1, name=\"output\")\n",
        "# Classical register for measurement\n",
        "result = ClassicalRegister(number_of_qubits, name=\"classical\")\n",
        "\n",
        "qc = QuantumCircuit(switch, bulb, output, result) ## a circuit combining all the registers\n",
        "\n",
        "qc.draw()"
      ]
    },
    {
      "cell_type": "code",
      "execution_count": null,
      "metadata": {
        "id": "RvfW-BnUwhaa"
      },
      "outputs": [],
      "source": [
        "'''\n",
        "Q2: set Iterations variable:\n",
        "\n",
        "'''\n",
        "import math\n",
        "# change this\n",
        "# Calculate the value of N\n",
        "N = math.pow(2, 9)\n",
        "\n",
        "# Calculate the number of iterations based on the formula in Grover's Algorithem\n",
        "iterations = math.ceil((math.pi / 4) * math.sqrt(N))\n",
        "\n",
        "iterations= 30\n"
      ]
    },
    {
      "cell_type": "code",
      "execution_count": null,
      "metadata": {
        "id": "NeuporK0whad"
      },
      "outputs": [],
      "source": [
        "def initialize():\n",
        "    '''Q3: Circuit initialization'''\n",
        "    ## initialize:\n",
        "    # Initialize bulbs based on the given lights configuration\n",
        "    [qc.x(bulb[i]) for i in range(len(lights)) if lights[i] == 1]\n",
        "\n",
        "    # second generate all possable statues using H gates for our switchs\n",
        "    qc.h(switch)\n",
        "\n",
        "    # Initialize the state of the output qubit for phase kickback\n",
        "    qc.x(output) # to transvare |0> --> |1>\n",
        "    qc.h(output) # to transvare |1> --> |->\n",
        "\n",
        "\n",
        "\n",
        "\n"
      ]
    },
    {
      "cell_type": "code",
      "execution_count": null,
      "metadata": {
        "id": "_N-cEbOXwhag"
      },
      "outputs": [],
      "source": [
        "def switch_flip_creation(number_of_qubits,switches_neighbors):\n",
        "    # Create a quantum register for the switches\n",
        "    switch_register = QuantumRegister(number_of_qubits, name='switches')\n",
        "    # Create a quantum register for the bulbs\n",
        "    bulb_register = QuantumRegister(number_of_qubits, name='bulbs')\n",
        "\n",
        "    # Create a quantum circuit for the switch flips\n",
        "    switch_flip_circuit = QuantumCircuit(switch_register, bulb_register, name='switch_flips')\n",
        "\n",
        "    # Apply CNOT gates between each switch and its corresponding bulb and neighbors\n",
        "    for i in range(number_of_qubits):\n",
        "        # Apply CNOT for the corresponding bulb\n",
        "        switch_flip_circuit.cx(switch_register[i], bulb_register[i])\n",
        "        # Apply CNOT for the neighbors\n",
        "        for neighbor in switches_neighbors[i]:\n",
        "            switch_flip_circuit.cx(switch_register[i], bulb_register[neighbor])\n",
        "\n",
        "    print(switch_flip_circuit.draw())\n",
        "    # Convert the circuit to a gate\n",
        "    switch_flip_gate = switch_flip_circuit.to_gate()\n",
        "\n",
        "    return switch_flip_gate\n"
      ]
    },
    {
      "cell_type": "code",
      "source": [
        "switch_flip_gate=switch_flip_creation(number_of_qubits, switches_neighbors)\n"
      ],
      "metadata": {
        "colab": {
          "base_uri": "https://localhost:8080/"
        },
        "id": "-N97_QYcTqK4",
        "outputId": "f55b846a-dda7-405b-e5e8-c98d9b11e51d"
      },
      "execution_count": null,
      "outputs": [
        {
          "output_type": "stream",
          "name": "stdout",
          "text": [
            "                                                                             »\n",
            "switches_0: ──■────■────■────────────────────────────────────────────────────»\n",
            "              │    │    │                                                    »\n",
            "switches_1: ──┼────┼────┼────■────■─────────■─────────■──────────────────────»\n",
            "              │    │    │    │    │         │         │                      »\n",
            "switches_2: ──┼────┼────┼────┼────┼─────────┼─────────┼────■────■─────────■──»\n",
            "              │    │    │    │    │         │         │    │    │         │  »\n",
            "switches_3: ──┼────┼────┼────┼────┼────■────┼────■────┼────┼────┼────■────┼──»\n",
            "              │    │    │    │    │    │    │    │    │    │    │    │    │  »\n",
            "switches_4: ──┼────┼────┼────┼────┼────┼────┼────┼────┼────┼────┼────┼────┼──»\n",
            "              │    │    │    │    │    │    │    │    │    │    │    │    │  »\n",
            "switches_5: ──┼────┼────┼────┼────┼────┼────┼────┼────┼────┼────┼────┼────┼──»\n",
            "              │    │    │    │    │    │    │    │    │    │    │    │    │  »\n",
            "switches_6: ──┼────┼────┼────┼────┼────┼────┼────┼────┼────┼────┼────┼────┼──»\n",
            "              │    │    │    │    │    │    │    │    │    │    │    │    │  »\n",
            "switches_7: ──┼────┼────┼────┼────┼────┼────┼────┼────┼────┼────┼────┼────┼──»\n",
            "              │    │    │    │    │    │    │    │    │    │    │    │    │  »\n",
            "switches_8: ──┼────┼────┼────┼────┼────┼────┼────┼────┼────┼────┼────┼────┼──»\n",
            "            ┌─┴─┐  │    │    │  ┌─┴─┐  │    │  ┌─┴─┐  │    │    │    │    │  »\n",
            "   bulbs_0: ┤ X ├──┼────┼────┼──┤ X ├──┼────┼──┤ X ├──┼────┼────┼────┼────┼──»\n",
            "            └───┘┌─┴─┐  │  ┌─┴─┐└───┘  │    │  └───┘  │    │  ┌─┴─┐  │    │  »\n",
            "   bulbs_1: ─────┤ X ├──┼──┤ X ├───────┼────┼─────────┼────┼──┤ X ├──┼────┼──»\n",
            "                 └───┘  │  └───┘       │  ┌─┴─┐       │  ┌─┴─┐└───┘  │    │  »\n",
            "   bulbs_2: ────────────┼──────────────┼──┤ X ├───────┼──┤ X ├───────┼────┼──»\n",
            "                      ┌─┴─┐          ┌─┴─┐└───┘       │  └───┘       │    │  »\n",
            "   bulbs_3: ──────────┤ X ├──────────┤ X ├────────────┼──────────────┼────┼──»\n",
            "                      └───┘          └───┘          ┌─┴─┐          ┌─┴─┐  │  »\n",
            "   bulbs_4: ────────────────────────────────────────┤ X ├──────────┤ X ├──┼──»\n",
            "                                                    └───┘          └───┘┌─┴─┐»\n",
            "   bulbs_5: ────────────────────────────────────────────────────────────┤ X ├»\n",
            "                                                                        └───┘»\n",
            "   bulbs_6: ─────────────────────────────────────────────────────────────────»\n",
            "                                                                             »\n",
            "   bulbs_7: ─────────────────────────────────────────────────────────────────»\n",
            "                                                                             »\n",
            "   bulbs_8: ─────────────────────────────────────────────────────────────────»\n",
            "                                                                             »\n",
            "«                                                                             »\n",
            "«switches_0: ─────────────────────────────────────────────────────────────────»\n",
            "«                                                                             »\n",
            "«switches_1: ─────────────────────────────────────────────────────────────────»\n",
            "«                                                                             »\n",
            "«switches_2: ─────────────────────────────────────────────────────────────────»\n",
            "«                                                                             »\n",
            "«switches_3: ──■──────────────────────────────────────────────────────────────»\n",
            "«              │                                                              »\n",
            "«switches_4: ──┼────■────■─────────■────■─────────■───────────────────────────»\n",
            "«              │    │    │         │    │         │                           »\n",
            "«switches_5: ──┼────┼────┼─────────┼────┼─────────┼────■────■─────────■───────»\n",
            "«              │    │    │         │    │         │    │    │         │       »\n",
            "«switches_6: ──┼────┼────┼────■────┼────┼────■────┼────┼────┼────■────┼───────»\n",
            "«              │    │    │    │    │    │    │    │    │    │    │    │       »\n",
            "«switches_7: ──┼────┼────┼────┼────┼────┼────┼────┼────┼────┼────┼────┼────■──»\n",
            "«              │    │    │    │    │    │    │    │    │    │    │    │    │  »\n",
            "«switches_8: ──┼────┼────┼────┼────┼────┼────┼────┼────┼────┼────┼────┼────┼──»\n",
            "«              │    │    │    │    │    │    │    │    │    │    │    │    │  »\n",
            "«   bulbs_0: ──┼────┼────┼────┼────┼────┼────┼────┼────┼────┼────┼────┼────┼──»\n",
            "«              │    │  ┌─┴─┐  │    │    │    │    │    │    │    │    │    │  »\n",
            "«   bulbs_1: ──┼────┼──┤ X ├──┼────┼────┼────┼────┼────┼────┼────┼────┼────┼──»\n",
            "«              │    │  └───┘  │    │    │    │    │    │  ┌─┴─┐  │    │    │  »\n",
            "«   bulbs_2: ──┼────┼─────────┼────┼────┼────┼────┼────┼──┤ X ├──┼────┼────┼──»\n",
            "«              │    │         │  ┌─┴─┐  │  ┌─┴─┐  │    │  └───┘  │    │    │  »\n",
            "«   bulbs_3: ──┼────┼─────────┼──┤ X ├──┼──┤ X ├──┼────┼─────────┼────┼────┼──»\n",
            "«              │  ┌─┴─┐       │  └───┘  │  └───┘  │    │         │  ┌─┴─┐  │  »\n",
            "«   bulbs_4: ──┼──┤ X ├───────┼─────────┼─────────┼────┼─────────┼──┤ X ├──┼──»\n",
            "«              │  └───┘       │       ┌─┴─┐       │  ┌─┴─┐       │  └───┘  │  »\n",
            "«   bulbs_5: ──┼──────────────┼───────┤ X ├───────┼──┤ X ├───────┼─────────┼──»\n",
            "«            ┌─┴─┐          ┌─┴─┐     └───┘       │  └───┘       │         │  »\n",
            "«   bulbs_6: ┤ X ├──────────┤ X ├─────────────────┼──────────────┼─────────┼──»\n",
            "«            └───┘          └───┘               ┌─┴─┐          ┌─┴─┐     ┌─┴─┐»\n",
            "«   bulbs_7: ───────────────────────────────────┤ X ├──────────┤ X ├─────┤ X ├»\n",
            "«                                               └───┘          └───┘     └───┘»\n",
            "«   bulbs_8: ─────────────────────────────────────────────────────────────────»\n",
            "«                                                                             »\n",
            "«                                               \n",
            "«switches_0: ───────────────────────────────────\n",
            "«                                               \n",
            "«switches_1: ───────────────────────────────────\n",
            "«                                               \n",
            "«switches_2: ───────────────────────────────────\n",
            "«                                               \n",
            "«switches_3: ───────────────────────────────────\n",
            "«                                               \n",
            "«switches_4: ───────────────────────────────────\n",
            "«                                               \n",
            "«switches_5: ──■────────────────────────────────\n",
            "«              │                                \n",
            "«switches_6: ──┼────────────────────────────────\n",
            "«              │                                \n",
            "«switches_7: ──┼────■────■────■─────────────────\n",
            "«              │    │    │    │                 \n",
            "«switches_8: ──┼────┼────┼────┼────■────■────■──\n",
            "«              │    │    │    │    │    │    │  \n",
            "«   bulbs_0: ──┼────┼────┼────┼────┼────┼────┼──\n",
            "«              │    │    │    │    │    │    │  \n",
            "«   bulbs_1: ──┼────┼────┼────┼────┼────┼────┼──\n",
            "«              │    │    │    │    │    │    │  \n",
            "«   bulbs_2: ──┼────┼────┼────┼────┼────┼────┼──\n",
            "«              │    │    │    │    │    │    │  \n",
            "«   bulbs_3: ──┼────┼────┼────┼────┼────┼────┼──\n",
            "«              │  ┌─┴─┐  │    │    │    │    │  \n",
            "«   bulbs_4: ──┼──┤ X ├──┼────┼────┼────┼────┼──\n",
            "«              │  └───┘  │    │    │  ┌─┴─┐  │  \n",
            "«   bulbs_5: ──┼─────────┼────┼────┼──┤ X ├──┼──\n",
            "«              │       ┌─┴─┐  │    │  └───┘  │  \n",
            "«   bulbs_6: ──┼───────┤ X ├──┼────┼─────────┼──\n",
            "«              │       └───┘  │    │       ┌─┴─┐\n",
            "«   bulbs_7: ──┼──────────────┼────┼───────┤ X ├\n",
            "«            ┌─┴─┐          ┌─┴─┐┌─┴─┐     └───┘\n",
            "«   bulbs_8: ┤ X ├──────────┤ X ├┤ X ├──────────\n",
            "«            └───┘          └───┘└───┘          \n"
          ]
        }
      ]
    },
    {
      "cell_type": "code",
      "source": [
        "def phase_flip_target_statue(number_of_qubits):\n",
        "    # Create a quantum register for the switches\n",
        "    switch_register = QuantumRegister(number_of_qubits, name='switches')\n",
        "    # Create a quantum register for the bulbs\n",
        "    bulb_register = QuantumRegister(number_of_qubits, name='bulbs')\n",
        "\n",
        "    # Create a quantum circuit for the switch flips\n",
        "    output = QuantumRegister(1, name=\"output\")\n",
        "\n",
        "    phase_flip_circuit = QuantumCircuit(switch_register, bulb_register,output, name='phase_flip')\n",
        "\n",
        "    # Apply X gates to invert the target from |00000000> to |11111111>\n",
        "    for i in range(number_of_qubits):\n",
        "        phase_flip_circuit.x(bulb_register[i])\n",
        "\n",
        "    # Apply the multi-controlled Toffoli gate with all bulb qubits as controls\n",
        "    # as X|-> = -|-> that will flip the sign of the target state\n",
        "    phase_flip_circuit.mcx(bulb_register, output)\n",
        "\n",
        "    # Reapply X gates to revert the bulb states to their original configuration\n",
        "    for i in range(number_of_qubits):\n",
        "        phase_flip_circuit.x(bulb_register[i])\n",
        "\n",
        "    print(phase_flip_circuit.draw())\n",
        "    # Convert the circuit to a gate\n",
        "    phase_flip_gate = phase_flip_circuit.to_gate()\n",
        "\n",
        "    return phase_flip_gate\n"
      ],
      "metadata": {
        "id": "aO0UkgJVgNvP"
      },
      "execution_count": null,
      "outputs": []
    },
    {
      "cell_type": "code",
      "source": [
        "phase_flip_target_statue(number_of_qubits)"
      ],
      "metadata": {
        "colab": {
          "base_uri": "https://localhost:8080/"
        },
        "id": "7zSRli6TW3kk",
        "outputId": "8d5d04f7-6c77-49a9-b852-74cf02a333aa"
      },
      "execution_count": null,
      "outputs": [
        {
          "output_type": "stream",
          "name": "stdout",
          "text": [
            "                           \n",
            "switches_0: ───────────────\n",
            "                           \n",
            "switches_1: ───────────────\n",
            "                           \n",
            "switches_2: ───────────────\n",
            "                           \n",
            "switches_3: ───────────────\n",
            "                           \n",
            "switches_4: ───────────────\n",
            "                           \n",
            "switches_5: ───────────────\n",
            "                           \n",
            "switches_6: ───────────────\n",
            "                           \n",
            "switches_7: ───────────────\n",
            "                           \n",
            "switches_8: ───────────────\n",
            "            ┌───┐     ┌───┐\n",
            "   bulbs_0: ┤ X ├──■──┤ X ├\n",
            "            ├───┤  │  ├───┤\n",
            "   bulbs_1: ┤ X ├──■──┤ X ├\n",
            "            ├───┤  │  ├───┤\n",
            "   bulbs_2: ┤ X ├──■──┤ X ├\n",
            "            ├───┤  │  ├───┤\n",
            "   bulbs_3: ┤ X ├──■──┤ X ├\n",
            "            ├───┤  │  ├───┤\n",
            "   bulbs_4: ┤ X ├──■──┤ X ├\n",
            "            ├───┤  │  ├───┤\n",
            "   bulbs_5: ┤ X ├──■──┤ X ├\n",
            "            ├───┤  │  ├───┤\n",
            "   bulbs_6: ┤ X ├──■──┤ X ├\n",
            "            ├───┤  │  ├───┤\n",
            "   bulbs_7: ┤ X ├──■──┤ X ├\n",
            "            ├───┤  │  ├───┤\n",
            "   bulbs_8: ┤ X ├──■──┤ X ├\n",
            "            └───┘┌─┴─┐└───┘\n",
            "    output: ─────┤ X ├─────\n",
            "                 └───┘     \n"
          ]
        },
        {
          "output_type": "execute_result",
          "data": {
            "text/plain": [
              "Instruction(name='phase_flip', num_qubits=19, num_clbits=0, params=[])"
            ]
          },
          "metadata": {},
          "execution_count": 9
        }
      ]
    },
    {
      "cell_type": "code",
      "source": [
        "def uncompute_switch_flip(number_of_qubits, switches_neighbors):\n",
        "    # Create a quantum register for the switches\n",
        "    switch_register = QuantumRegister(number_of_qubits, name='switches')\n",
        "    # Create a quantum register for the bulbs\n",
        "    bulb_register = QuantumRegister(number_of_qubits, name='bulbs')\n",
        "\n",
        "    # Create a quantum circuit for the switch flips\n",
        "    uncompute_switch_flip_circuit = QuantumCircuit(switch_register, bulb_register, name='uncompute switch flip')\n",
        "\n",
        "    # Reverse the order of switch processing\n",
        "    for i in reversed(range(number_of_qubits)):\n",
        "        # Reverse the order of neighbor processing\n",
        "        for neighbor in reversed(switches_neighbors[i]):\n",
        "            uncompute_switch_flip_circuit.cx(switch_register[i], bulb_register[neighbor])\n",
        "        # Apply CNOT for the corresponding bulb\n",
        "        uncompute_switch_flip_circuit.cx(switch_register[i], bulb_register[i])\n",
        "    print(uncompute_switch_flip_circuit.draw())\n",
        "    # Convert the circuit to a gate\n",
        "    uncompute_switch_flip_circuit_gate = uncompute_switch_flip_circuit.to_gate()\n",
        "\n",
        "    return uncompute_switch_flip_circuit_gate\n"
      ],
      "metadata": {
        "id": "VKjx2-Rnm1u3"
      },
      "execution_count": null,
      "outputs": []
    },
    {
      "cell_type": "code",
      "source": [
        "uncompute_switch_flip(number_of_qubits, switches_neighbors)"
      ],
      "metadata": {
        "colab": {
          "base_uri": "https://localhost:8080/"
        },
        "id": "AqNcy9-SYfFT",
        "outputId": "7ff786cb-4f02-42be-ad3f-c422ac0d48db"
      },
      "execution_count": null,
      "outputs": [
        {
          "output_type": "stream",
          "name": "stdout",
          "text": [
            "                                                                             »\n",
            "switches_0: ─────────────────────────────────────────────────────────────────»\n",
            "                                                                             »\n",
            "switches_1: ─────────────────────────────────────────────────────────────────»\n",
            "                                                                             »\n",
            "switches_2: ─────────────────────────────────────────────────────────────────»\n",
            "                                                                             »\n",
            "switches_3: ─────────────────────────────────────────────────────────────────»\n",
            "                                                                             »\n",
            "switches_4: ─────────────────────────────────────────────────────────────────»\n",
            "                                                                             »\n",
            "switches_5: ───────────────────────────■──────────────■─────────■─────────■──»\n",
            "                                       │              │         │         │  »\n",
            "switches_6: ───────────────────────────┼──────────────┼────■────┼────■────┼──»\n",
            "                                       │              │    │    │    │    │  »\n",
            "switches_7: ─────────────────■────■────┼────■────■────┼────┼────┼────┼────┼──»\n",
            "                             │    │    │    │    │    │    │    │    │    │  »\n",
            "switches_8: ──■────■────■────┼────┼────┼────┼────┼────┼────┼────┼────┼────┼──»\n",
            "              │    │    │    │    │    │    │    │    │    │    │    │    │  »\n",
            "   bulbs_0: ──┼────┼────┼────┼────┼────┼────┼────┼────┼────┼────┼────┼────┼──»\n",
            "              │    │    │    │    │    │    │    │    │    │    │    │    │  »\n",
            "   bulbs_1: ──┼────┼────┼────┼────┼────┼────┼────┼────┼────┼────┼────┼────┼──»\n",
            "              │    │    │    │    │    │    │    │    │    │  ┌─┴─┐  │    │  »\n",
            "   bulbs_2: ──┼────┼────┼────┼────┼────┼────┼────┼────┼────┼──┤ X ├──┼────┼──»\n",
            "              │    │    │    │    │    │    │    │    │    │  └───┘┌─┴─┐  │  »\n",
            "   bulbs_3: ──┼────┼────┼────┼────┼────┼────┼────┼────┼────┼───────┤ X ├──┼──»\n",
            "              │    │    │    │    │    │  ┌─┴─┐  │  ┌─┴─┐  │       └───┘  │  »\n",
            "   bulbs_4: ──┼────┼────┼────┼────┼────┼──┤ X ├──┼──┤ X ├──┼──────────────┼──»\n",
            "              │  ┌─┴─┐  │    │    │    │  └───┘  │  └───┘  │            ┌─┴─┐»\n",
            "   bulbs_5: ──┼──┤ X ├──┼────┼────┼────┼─────────┼─────────┼────────────┤ X ├»\n",
            "              │  └───┘  │    │  ┌─┴─┐  │         │         │            └───┘»\n",
            "   bulbs_6: ──┼─────────┼────┼──┤ X ├──┼─────────┼─────────┼─────────────────»\n",
            "            ┌─┴─┐       │    │  └───┘  │       ┌─┴─┐     ┌─┴─┐               »\n",
            "   bulbs_7: ┤ X ├───────┼────┼─────────┼───────┤ X ├─────┤ X ├───────────────»\n",
            "            └───┘     ┌─┴─┐┌─┴─┐     ┌─┴─┐     └───┘     └───┘               »\n",
            "   bulbs_8: ──────────┤ X ├┤ X ├─────┤ X ├───────────────────────────────────»\n",
            "                      └───┘└───┘     └───┘                                   »\n",
            "«                                                                             »\n",
            "«switches_0: ─────────────────────────────────────────────────────────────────»\n",
            "«                                                                             »\n",
            "«switches_1: ──────────────────────────────────────────────────────────────■──»\n",
            "«                                                                          │  »\n",
            "«switches_2: ───────────────────────────■──────────────■─────────■─────────┼──»\n",
            "«                                       │              │         │         │  »\n",
            "«switches_3: ──────────────────────■────┼──────────────┼────■────┼────■────┼──»\n",
            "«                                  │    │              │    │    │    │    │  »\n",
            "«switches_4: ──■─────────■────■────┼────┼────■────■────┼────┼────┼────┼────┼──»\n",
            "«              │         │    │    │    │    │    │    │    │    │    │    │  »\n",
            "«switches_5: ──┼─────────┼────┼────┼────┼────┼────┼────┼────┼────┼────┼────┼──»\n",
            "«              │         │    │    │    │    │    │    │    │    │    │    │  »\n",
            "«switches_6: ──┼────■────┼────┼────┼────┼────┼────┼────┼────┼────┼────┼────┼──»\n",
            "«              │    │    │    │    │    │    │    │    │    │    │    │    │  »\n",
            "«switches_7: ──┼────┼────┼────┼────┼────┼────┼────┼────┼────┼────┼────┼────┼──»\n",
            "«              │    │    │    │    │    │    │    │    │    │    │    │    │  »\n",
            "«switches_8: ──┼────┼────┼────┼────┼────┼────┼────┼────┼────┼────┼────┼────┼──»\n",
            "«              │    │    │    │    │    │    │    │    │    │    │  ┌─┴─┐  │  »\n",
            "«   bulbs_0: ──┼────┼────┼────┼────┼────┼────┼────┼────┼────┼────┼──┤ X ├──┼──»\n",
            "«              │    │    │    │    │    │  ┌─┴─┐  │  ┌─┴─┐  │    │  └───┘  │  »\n",
            "«   bulbs_1: ──┼────┼────┼────┼────┼────┼──┤ X ├──┼──┤ X ├──┼────┼─────────┼──»\n",
            "«              │    │    │    │    │    │  └───┘  │  └───┘  │  ┌─┴─┐       │  »\n",
            "«   bulbs_2: ──┼────┼────┼────┼────┼────┼─────────┼─────────┼──┤ X ├───────┼──»\n",
            "«              │    │    │  ┌─┴─┐  │    │         │         │  └───┘       │  »\n",
            "«   bulbs_3: ──┼────┼────┼──┤ X ├──┼────┼─────────┼─────────┼──────────────┼──»\n",
            "«              │    │    │  └───┘  │    │       ┌─┴─┐     ┌─┴─┐          ┌─┴─┐»\n",
            "«   bulbs_4: ──┼────┼────┼─────────┼────┼───────┤ X ├─────┤ X ├──────────┤ X ├»\n",
            "«              │    │  ┌─┴─┐       │  ┌─┴─┐     └───┘     └───┘          └───┘»\n",
            "«   bulbs_5: ──┼────┼──┤ X ├───────┼──┤ X ├───────────────────────────────────»\n",
            "«              │  ┌─┴─┐└───┘     ┌─┴─┐└───┘                                   »\n",
            "«   bulbs_6: ──┼──┤ X ├──────────┤ X ├────────────────────────────────────────»\n",
            "«            ┌─┴─┐└───┘          └───┘                                        »\n",
            "«   bulbs_7: ┤ X ├────────────────────────────────────────────────────────────»\n",
            "«            └───┘                                                            »\n",
            "«   bulbs_8: ─────────────────────────────────────────────────────────────────»\n",
            "«                                                                             »\n",
            "«                                               \n",
            "«switches_0: ─────────────────■─────────■────■──\n",
            "«                             │         │    │  \n",
            "«switches_1: ───────■────■────┼────■────┼────┼──\n",
            "«                   │    │    │    │    │    │  \n",
            "«switches_2: ───────┼────┼────┼────┼────┼────┼──\n",
            "«                   │    │    │    │    │    │  \n",
            "«switches_3: ──■────┼────┼────┼────┼────┼────┼──\n",
            "«              │    │    │    │    │    │    │  \n",
            "«switches_4: ──┼────┼────┼────┼────┼────┼────┼──\n",
            "«              │    │    │    │    │    │    │  \n",
            "«switches_5: ──┼────┼────┼────┼────┼────┼────┼──\n",
            "«              │    │    │    │    │    │    │  \n",
            "«switches_6: ──┼────┼────┼────┼────┼────┼────┼──\n",
            "«              │    │    │    │    │    │    │  \n",
            "«switches_7: ──┼────┼────┼────┼────┼────┼────┼──\n",
            "«              │    │    │    │    │    │    │  \n",
            "«switches_8: ──┼────┼────┼────┼────┼────┼────┼──\n",
            "«              │    │  ┌─┴─┐  │    │    │  ┌─┴─┐\n",
            "«   bulbs_0: ──┼────┼──┤ X ├──┼────┼────┼──┤ X ├\n",
            "«              │    │  └───┘  │  ┌─┴─┐┌─┴─┐└───┘\n",
            "«   bulbs_1: ──┼────┼─────────┼──┤ X ├┤ X ├─────\n",
            "«              │  ┌─┴─┐       │  └───┘└───┘     \n",
            "«   bulbs_2: ──┼──┤ X ├───────┼─────────────────\n",
            "«            ┌─┴─┐└───┘     ┌─┴─┐               \n",
            "«   bulbs_3: ┤ X ├──────────┤ X ├───────────────\n",
            "«            └───┘          └───┘               \n",
            "«   bulbs_4: ───────────────────────────────────\n",
            "«                                               \n",
            "«   bulbs_5: ───────────────────────────────────\n",
            "«                                               \n",
            "«   bulbs_6: ───────────────────────────────────\n",
            "«                                               \n",
            "«   bulbs_7: ───────────────────────────────────\n",
            "«                                               \n",
            "«   bulbs_8: ───────────────────────────────────\n",
            "«                                               \n"
          ]
        },
        {
          "output_type": "execute_result",
          "data": {
            "text/plain": [
              "Instruction(name='uncompute switch flip', num_qubits=18, num_clbits=0, params=[])"
            ]
          },
          "metadata": {},
          "execution_count": 11
        }
      ]
    },
    {
      "cell_type": "code",
      "source": [
        "def apply_diffuser(number_of_qubits):\n",
        "    # Create a quantum register for the switches\n",
        "    switch_register = QuantumRegister(number_of_qubits, name='switches')\n",
        "\n",
        "\n",
        "\n",
        "    # Create a quantum circuit for the diffuser\n",
        "    diffuser_circuit = QuantumCircuit(switch_register, name='diffuser')\n",
        "\n",
        "\n",
        "\n",
        "\n",
        "    diffuser_circuit.h(switch_register)\n",
        "    diffuser_circuit.x(switch_register)\n",
        "    diffuser_circuit.h(switch_register[-1])\n",
        "\n",
        "    # Apply a multi-controlled Z gate (multi-controlled Toffoli)\n",
        "    diffuser_circuit.mcx(switch_register[:-1],switch_register[-1])\n",
        "    diffuser_circuit.h(switch_register[-1])\n",
        "\n",
        "    diffuser_circuit.x(switch_register)\n",
        "    diffuser_circuit.h(switch_register)\n",
        "\n",
        "    print(diffuser_circuit.draw())\n",
        "    # Convert the circuit to a gate\n",
        "    diffuser_gate = diffuser_circuit.to_gate()\n",
        "\n",
        "    return diffuser_gate\n"
      ],
      "metadata": {
        "id": "DPcsxDY9u62e"
      },
      "execution_count": null,
      "outputs": []
    },
    {
      "cell_type": "code",
      "source": [
        "apply_diffuser(number_of_qubits)"
      ],
      "metadata": {
        "colab": {
          "base_uri": "https://localhost:8080/"
        },
        "id": "7dReAO1BZelo",
        "outputId": "0cecb359-f142-46b9-dabb-7caf5bae369e"
      },
      "execution_count": null,
      "outputs": [
        {
          "output_type": "stream",
          "name": "stdout",
          "text": [
            "            ┌───┐┌───┐          ┌───┐┌───┐     \n",
            "switches_0: ┤ H ├┤ X ├───────■──┤ X ├┤ H ├─────\n",
            "            ├───┤├───┤       │  ├───┤├───┤     \n",
            "switches_1: ┤ H ├┤ X ├───────■──┤ X ├┤ H ├─────\n",
            "            ├───┤├───┤       │  ├───┤├───┤     \n",
            "switches_2: ┤ H ├┤ X ├───────■──┤ X ├┤ H ├─────\n",
            "            ├───┤├───┤       │  ├───┤├───┤     \n",
            "switches_3: ┤ H ├┤ X ├───────■──┤ X ├┤ H ├─────\n",
            "            ├───┤├───┤       │  ├───┤├───┤     \n",
            "switches_4: ┤ H ├┤ X ├───────■──┤ X ├┤ H ├─────\n",
            "            ├───┤├───┤       │  ├───┤├───┤     \n",
            "switches_5: ┤ H ├┤ X ├───────■──┤ X ├┤ H ├─────\n",
            "            ├───┤├───┤       │  ├───┤├───┤     \n",
            "switches_6: ┤ H ├┤ X ├───────■──┤ X ├┤ H ├─────\n",
            "            ├───┤├───┤       │  ├───┤├───┤     \n",
            "switches_7: ┤ H ├┤ X ├───────■──┤ X ├┤ H ├─────\n",
            "            ├───┤├───┤┌───┐┌─┴─┐├───┤├───┤┌───┐\n",
            "switches_8: ┤ H ├┤ X ├┤ H ├┤ X ├┤ H ├┤ X ├┤ H ├\n",
            "            └───┘└───┘└───┘└───┘└───┘└───┘└───┘\n"
          ]
        },
        {
          "output_type": "execute_result",
          "data": {
            "text/plain": [
              "Instruction(name='diffuser', num_qubits=9, num_clbits=0, params=[])"
            ]
          },
          "metadata": {},
          "execution_count": 13
        }
      ]
    }
  ],
  "metadata": {
    "kernelspec": {
      "display_name": "Python 3 (ipykernel)",
      "language": "python",
      "name": "python3"
    },
    "language_info": {
      "codemirror_mode": {
        "name": "ipython",
        "version": 3
      },
      "file_extension": ".py",
      "mimetype": "text/x-python",
      "name": "python",
      "nbconvert_exporter": "python",
      "pygments_lexer": "ipython3",
      "version": "3.9.7"
    },
    "colab": {
      "provenance": [],
      "toc_visible": true,
      "include_colab_link": true
    }
  },
  "nbformat": 4,
  "nbformat_minor": 0
}